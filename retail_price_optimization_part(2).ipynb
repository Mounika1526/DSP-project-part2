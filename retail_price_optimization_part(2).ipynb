{
  "nbformat": 4,
  "nbformat_minor": 0,
  "metadata": {
    "colab": {
      "provenance": [],
      "collapsed_sections": []
    },
    "kernelspec": {
      "name": "python3",
      "display_name": "Python 3"
    },
    "language_info": {
      "name": "python"
    }
  },
  "cells": [
    {
      "cell_type": "code",
      "execution_count": null,
      "metadata": {
        "id": "TddfpKHzwYYQ"
      },
      "outputs": [],
      "source": [
        "import gc\n",
        "import time\n",
        "import numpy as np\n",
        "import pandas as pd\n",
        "import matplotlib.pyplot as plt\n",
        "import seaborn as sns\n",
        "from scipy.sparse import csr_matrix, hstack\n",
        "from sklearn.feature_extraction.text import CountVectorizer, TfidfVectorizer\n",
        "from sklearn.preprocessing import LabelBinarizer\n",
        "from sklearn.model_selection import train_test_split, cross_val_score\n",
        "from sklearn.metrics import mean_squared_error\n",
        "import lightgbm as lgbb"
      ]
    },
    {
      "cell_type": "code",
      "source": [
        "from operator import index\n",
        "data=pd.read_csv(\"model.csv\",index_col=\"train_id\")"
      ],
      "metadata": {
        "id": "6sasFYvRxSX-"
      },
      "execution_count": null,
      "outputs": []
    },
    {
      "cell_type": "code",
      "source": [
        "data.head()"
      ],
      "metadata": {
        "colab": {
          "base_uri": "https://localhost:8080/",
          "height": 238
        },
        "id": "_xHdFEWzxfU0",
        "outputId": "db70f63f-5e11-470b-a74f-ca026931248a"
      },
      "execution_count": null,
      "outputs": [
        {
          "output_type": "execute_result",
          "data": {
            "text/plain": [
              "          Unnamed: 0                                 name  item_condition_id  \\\n",
              "train_id                                                                       \n",
              "0                  0  MLB Cincinnati Reds T Shirt Size XL                  3   \n",
              "1                  1     Razer BlackWidow Chroma Keyboard                  3   \n",
              "2                  2                       AVA-VIV Blouse                  1   \n",
              "3                  3                Leather Horse Statues                  1   \n",
              "4                  4                 24K GOLD plated rose                  1   \n",
              "\n",
              "                                              category_name brand_name  price  \\\n",
              "train_id                                                                        \n",
              "0                                         Men/Tops/T-shirts        NaN   10.0   \n",
              "1         Electronics/Computers & Tablets/Components & P...      Razer   52.0   \n",
              "2                               Women/Tops & Blouses/Blouse     Target   10.0   \n",
              "3                        Home/Home Décor/Home Décor Accents        NaN   35.0   \n",
              "4                                   Women/Jewelry/Necklaces        NaN   44.0   \n",
              "\n",
              "          shipping                                   item_description  \n",
              "train_id                                                               \n",
              "0                1                                 No description yet  \n",
              "1                0  This keyboard is in great condition and works ...  \n",
              "2                1  Adorable top with a hint of lace and a key hol...  \n",
              "3                1  New with tags. Leather horses. Retail for [rm]...  \n",
              "4                0          Complete with certificate of authenticity  "
            ],
            "text/html": [
              "\n",
              "  <div id=\"df-3c7f0e91-5aba-4da7-b631-e0d5b65a6aed\">\n",
              "    <div class=\"colab-df-container\">\n",
              "      <div>\n",
              "<style scoped>\n",
              "    .dataframe tbody tr th:only-of-type {\n",
              "        vertical-align: middle;\n",
              "    }\n",
              "\n",
              "    .dataframe tbody tr th {\n",
              "        vertical-align: top;\n",
              "    }\n",
              "\n",
              "    .dataframe thead th {\n",
              "        text-align: right;\n",
              "    }\n",
              "</style>\n",
              "<table border=\"1\" class=\"dataframe\">\n",
              "  <thead>\n",
              "    <tr style=\"text-align: right;\">\n",
              "      <th></th>\n",
              "      <th>Unnamed: 0</th>\n",
              "      <th>name</th>\n",
              "      <th>item_condition_id</th>\n",
              "      <th>category_name</th>\n",
              "      <th>brand_name</th>\n",
              "      <th>price</th>\n",
              "      <th>shipping</th>\n",
              "      <th>item_description</th>\n",
              "    </tr>\n",
              "    <tr>\n",
              "      <th>train_id</th>\n",
              "      <th></th>\n",
              "      <th></th>\n",
              "      <th></th>\n",
              "      <th></th>\n",
              "      <th></th>\n",
              "      <th></th>\n",
              "      <th></th>\n",
              "      <th></th>\n",
              "    </tr>\n",
              "  </thead>\n",
              "  <tbody>\n",
              "    <tr>\n",
              "      <th>0</th>\n",
              "      <td>0</td>\n",
              "      <td>MLB Cincinnati Reds T Shirt Size XL</td>\n",
              "      <td>3</td>\n",
              "      <td>Men/Tops/T-shirts</td>\n",
              "      <td>NaN</td>\n",
              "      <td>10.0</td>\n",
              "      <td>1</td>\n",
              "      <td>No description yet</td>\n",
              "    </tr>\n",
              "    <tr>\n",
              "      <th>1</th>\n",
              "      <td>1</td>\n",
              "      <td>Razer BlackWidow Chroma Keyboard</td>\n",
              "      <td>3</td>\n",
              "      <td>Electronics/Computers &amp; Tablets/Components &amp; P...</td>\n",
              "      <td>Razer</td>\n",
              "      <td>52.0</td>\n",
              "      <td>0</td>\n",
              "      <td>This keyboard is in great condition and works ...</td>\n",
              "    </tr>\n",
              "    <tr>\n",
              "      <th>2</th>\n",
              "      <td>2</td>\n",
              "      <td>AVA-VIV Blouse</td>\n",
              "      <td>1</td>\n",
              "      <td>Women/Tops &amp; Blouses/Blouse</td>\n",
              "      <td>Target</td>\n",
              "      <td>10.0</td>\n",
              "      <td>1</td>\n",
              "      <td>Adorable top with a hint of lace and a key hol...</td>\n",
              "    </tr>\n",
              "    <tr>\n",
              "      <th>3</th>\n",
              "      <td>3</td>\n",
              "      <td>Leather Horse Statues</td>\n",
              "      <td>1</td>\n",
              "      <td>Home/Home Décor/Home Décor Accents</td>\n",
              "      <td>NaN</td>\n",
              "      <td>35.0</td>\n",
              "      <td>1</td>\n",
              "      <td>New with tags. Leather horses. Retail for [rm]...</td>\n",
              "    </tr>\n",
              "    <tr>\n",
              "      <th>4</th>\n",
              "      <td>4</td>\n",
              "      <td>24K GOLD plated rose</td>\n",
              "      <td>1</td>\n",
              "      <td>Women/Jewelry/Necklaces</td>\n",
              "      <td>NaN</td>\n",
              "      <td>44.0</td>\n",
              "      <td>0</td>\n",
              "      <td>Complete with certificate of authenticity</td>\n",
              "    </tr>\n",
              "  </tbody>\n",
              "</table>\n",
              "</div>\n",
              "      <button class=\"colab-df-convert\" onclick=\"convertToInteractive('df-3c7f0e91-5aba-4da7-b631-e0d5b65a6aed')\"\n",
              "              title=\"Convert this dataframe to an interactive table.\"\n",
              "              style=\"display:none;\">\n",
              "        \n",
              "  <svg xmlns=\"http://www.w3.org/2000/svg\" height=\"24px\"viewBox=\"0 0 24 24\"\n",
              "       width=\"24px\">\n",
              "    <path d=\"M0 0h24v24H0V0z\" fill=\"none\"/>\n",
              "    <path d=\"M18.56 5.44l.94 2.06.94-2.06 2.06-.94-2.06-.94-.94-2.06-.94 2.06-2.06.94zm-11 1L8.5 8.5l.94-2.06 2.06-.94-2.06-.94L8.5 2.5l-.94 2.06-2.06.94zm10 10l.94 2.06.94-2.06 2.06-.94-2.06-.94-.94-2.06-.94 2.06-2.06.94z\"/><path d=\"M17.41 7.96l-1.37-1.37c-.4-.4-.92-.59-1.43-.59-.52 0-1.04.2-1.43.59L10.3 9.45l-7.72 7.72c-.78.78-.78 2.05 0 2.83L4 21.41c.39.39.9.59 1.41.59.51 0 1.02-.2 1.41-.59l7.78-7.78 2.81-2.81c.8-.78.8-2.07 0-2.86zM5.41 20L4 18.59l7.72-7.72 1.47 1.35L5.41 20z\"/>\n",
              "  </svg>\n",
              "      </button>\n",
              "      \n",
              "  <style>\n",
              "    .colab-df-container {\n",
              "      display:flex;\n",
              "      flex-wrap:wrap;\n",
              "      gap: 12px;\n",
              "    }\n",
              "\n",
              "    .colab-df-convert {\n",
              "      background-color: #E8F0FE;\n",
              "      border: none;\n",
              "      border-radius: 50%;\n",
              "      cursor: pointer;\n",
              "      display: none;\n",
              "      fill: #1967D2;\n",
              "      height: 32px;\n",
              "      padding: 0 0 0 0;\n",
              "      width: 32px;\n",
              "    }\n",
              "\n",
              "    .colab-df-convert:hover {\n",
              "      background-color: #E2EBFA;\n",
              "      box-shadow: 0px 1px 2px rgba(60, 64, 67, 0.3), 0px 1px 3px 1px rgba(60, 64, 67, 0.15);\n",
              "      fill: #174EA6;\n",
              "    }\n",
              "\n",
              "    [theme=dark] .colab-df-convert {\n",
              "      background-color: #3B4455;\n",
              "      fill: #D2E3FC;\n",
              "    }\n",
              "\n",
              "    [theme=dark] .colab-df-convert:hover {\n",
              "      background-color: #434B5C;\n",
              "      box-shadow: 0px 1px 3px 1px rgba(0, 0, 0, 0.15);\n",
              "      filter: drop-shadow(0px 1px 2px rgba(0, 0, 0, 0.3));\n",
              "      fill: #FFFFFF;\n",
              "    }\n",
              "  </style>\n",
              "\n",
              "      <script>\n",
              "        const buttonEl =\n",
              "          document.querySelector('#df-3c7f0e91-5aba-4da7-b631-e0d5b65a6aed button.colab-df-convert');\n",
              "        buttonEl.style.display =\n",
              "          google.colab.kernel.accessAllowed ? 'block' : 'none';\n",
              "\n",
              "        async function convertToInteractive(key) {\n",
              "          const element = document.querySelector('#df-3c7f0e91-5aba-4da7-b631-e0d5b65a6aed');\n",
              "          const dataTable =\n",
              "            await google.colab.kernel.invokeFunction('convertToInteractive',\n",
              "                                                     [key], {});\n",
              "          if (!dataTable) return;\n",
              "\n",
              "          const docLinkHtml = 'Like what you see? Visit the ' +\n",
              "            '<a target=\"_blank\" href=https://colab.research.google.com/notebooks/data_table.ipynb>data table notebook</a>'\n",
              "            + ' to learn more about interactive tables.';\n",
              "          element.innerHTML = '';\n",
              "          dataTable['output_type'] = 'display_data';\n",
              "          await google.colab.output.renderOutput(dataTable, element);\n",
              "          const docLink = document.createElement('div');\n",
              "          docLink.innerHTML = docLinkHtml;\n",
              "          element.appendChild(docLink);\n",
              "        }\n",
              "      </script>\n",
              "    </div>\n",
              "  </div>\n",
              "  "
            ]
          },
          "metadata": {},
          "execution_count": 20
        }
      ]
    },
    {
      "cell_type": "code",
      "source": [
        "data.shape"
      ],
      "metadata": {
        "colab": {
          "base_uri": "https://localhost:8080/"
        },
        "id": "ef1xJWHuxjTM",
        "outputId": "5b85dd8f-c123-4f73-b3e9-4ec11cb221fc"
      },
      "execution_count": null,
      "outputs": [
        {
          "output_type": "execute_result",
          "data": {
            "text/plain": [
              "(50001, 8)"
            ]
          },
          "metadata": {},
          "execution_count": 21
        }
      ]
    },
    {
      "cell_type": "code",
      "source": [
        "data.drop(columns=['Unnamed: 0'],inplace=True)"
      ],
      "metadata": {
        "id": "WK_-XPUqxnzH"
      },
      "execution_count": null,
      "outputs": []
    },
    {
      "cell_type": "code",
      "source": [
        "data"
      ],
      "metadata": {
        "colab": {
          "base_uri": "https://localhost:8080/",
          "height": 455
        },
        "id": "C8FVWtBmyPaU",
        "outputId": "3135b036-920b-4be8-9cf5-2d2aa83aa225"
      },
      "execution_count": null,
      "outputs": [
        {
          "output_type": "execute_result",
          "data": {
            "text/plain": [
              "                                            name  item_condition_id  \\\n",
              "train_id                                                              \n",
              "0            MLB Cincinnati Reds T Shirt Size XL                  3   \n",
              "1               Razer BlackWidow Chroma Keyboard                  3   \n",
              "2                                 AVA-VIV Blouse                  1   \n",
              "3                          Leather Horse Statues                  1   \n",
              "4                           24K GOLD plated rose                  1   \n",
              "...                                          ...                ...   \n",
              "49996     Camel Print Suede Leggings SPRING ITEM                  1   \n",
              "49997     Toddler Girls Zip-Up Gladiator Sandals                  3   \n",
              "49998            [rm]--(2)Bundles for this price                  1   \n",
              "49999           VS PINK bling v-neck tshirt sz S                  1   \n",
              "50000          Air Max 90 \"Summit Blue\" Sneakers                  1   \n",
              "\n",
              "                                              category_name  \\\n",
              "train_id                                                      \n",
              "0                                         Men/Tops/T-shirts   \n",
              "1         Electronics/Computers & Tablets/Components & P...   \n",
              "2                               Women/Tops & Blouses/Blouse   \n",
              "3                        Home/Home Décor/Home Décor Accents   \n",
              "4                                   Women/Jewelry/Necklaces   \n",
              "...                                                     ...   \n",
              "49996        Women/Athletic Apparel/Pants, Tights, Leggings   \n",
              "49997                                Kids/Girls 2T-5T/Shoes   \n",
              "49998                                                   NaN   \n",
              "49999                         Women/Tops & Blouses/T-Shirts   \n",
              "50000                            Men/Shoes/Fashion Sneakers   \n",
              "\n",
              "                 brand_name  price  shipping  \\\n",
              "train_id                                       \n",
              "0                       NaN   10.0         1   \n",
              "1                     Razer   52.0         0   \n",
              "2                    Target   10.0         1   \n",
              "3                       NaN   35.0         1   \n",
              "4                       NaN   44.0         0   \n",
              "...                     ...    ...       ...   \n",
              "49996                   NaN   11.0         1   \n",
              "49997                   NaN    8.0         1   \n",
              "49998           Virgin Only   75.0         1   \n",
              "49999     Victoria's Secret   50.0         1   \n",
              "50000                  Nike   96.0         0   \n",
              "\n",
              "                                           item_description  \n",
              "train_id                                                     \n",
              "0                                        No description yet  \n",
              "1         This keyboard is in great condition and works ...  \n",
              "2         Adorable top with a hint of lace and a key hol...  \n",
              "3         New with tags. Leather horses. Retail for [rm]...  \n",
              "4                 Complete with certificate of authenticity  \n",
              "...                                                     ...  \n",
              "49996     Absolutely gorgeous faux suede leggings! BRAND...  \n",
              "49997     Size 8. Excellent condition. Zip ups in the ba...  \n",
              "49998     ◇◇2 bundle Any length/FREE SHIPPING ◇◇¿¿¿¿¿◇Sa...  \n",
              "49999     PRICE FIRM ‼️ Don't ask for the lowest price p...  \n",
              "50000     Air Max 90 Essential \"Summit Blue\" Sneakers - ...  \n",
              "\n",
              "[50001 rows x 7 columns]"
            ],
            "text/html": [
              "\n",
              "  <div id=\"df-97888dde-99a9-43ed-a461-2f7f8062bed7\">\n",
              "    <div class=\"colab-df-container\">\n",
              "      <div>\n",
              "<style scoped>\n",
              "    .dataframe tbody tr th:only-of-type {\n",
              "        vertical-align: middle;\n",
              "    }\n",
              "\n",
              "    .dataframe tbody tr th {\n",
              "        vertical-align: top;\n",
              "    }\n",
              "\n",
              "    .dataframe thead th {\n",
              "        text-align: right;\n",
              "    }\n",
              "</style>\n",
              "<table border=\"1\" class=\"dataframe\">\n",
              "  <thead>\n",
              "    <tr style=\"text-align: right;\">\n",
              "      <th></th>\n",
              "      <th>name</th>\n",
              "      <th>item_condition_id</th>\n",
              "      <th>category_name</th>\n",
              "      <th>brand_name</th>\n",
              "      <th>price</th>\n",
              "      <th>shipping</th>\n",
              "      <th>item_description</th>\n",
              "    </tr>\n",
              "    <tr>\n",
              "      <th>train_id</th>\n",
              "      <th></th>\n",
              "      <th></th>\n",
              "      <th></th>\n",
              "      <th></th>\n",
              "      <th></th>\n",
              "      <th></th>\n",
              "      <th></th>\n",
              "    </tr>\n",
              "  </thead>\n",
              "  <tbody>\n",
              "    <tr>\n",
              "      <th>0</th>\n",
              "      <td>MLB Cincinnati Reds T Shirt Size XL</td>\n",
              "      <td>3</td>\n",
              "      <td>Men/Tops/T-shirts</td>\n",
              "      <td>NaN</td>\n",
              "      <td>10.0</td>\n",
              "      <td>1</td>\n",
              "      <td>No description yet</td>\n",
              "    </tr>\n",
              "    <tr>\n",
              "      <th>1</th>\n",
              "      <td>Razer BlackWidow Chroma Keyboard</td>\n",
              "      <td>3</td>\n",
              "      <td>Electronics/Computers &amp; Tablets/Components &amp; P...</td>\n",
              "      <td>Razer</td>\n",
              "      <td>52.0</td>\n",
              "      <td>0</td>\n",
              "      <td>This keyboard is in great condition and works ...</td>\n",
              "    </tr>\n",
              "    <tr>\n",
              "      <th>2</th>\n",
              "      <td>AVA-VIV Blouse</td>\n",
              "      <td>1</td>\n",
              "      <td>Women/Tops &amp; Blouses/Blouse</td>\n",
              "      <td>Target</td>\n",
              "      <td>10.0</td>\n",
              "      <td>1</td>\n",
              "      <td>Adorable top with a hint of lace and a key hol...</td>\n",
              "    </tr>\n",
              "    <tr>\n",
              "      <th>3</th>\n",
              "      <td>Leather Horse Statues</td>\n",
              "      <td>1</td>\n",
              "      <td>Home/Home Décor/Home Décor Accents</td>\n",
              "      <td>NaN</td>\n",
              "      <td>35.0</td>\n",
              "      <td>1</td>\n",
              "      <td>New with tags. Leather horses. Retail for [rm]...</td>\n",
              "    </tr>\n",
              "    <tr>\n",
              "      <th>4</th>\n",
              "      <td>24K GOLD plated rose</td>\n",
              "      <td>1</td>\n",
              "      <td>Women/Jewelry/Necklaces</td>\n",
              "      <td>NaN</td>\n",
              "      <td>44.0</td>\n",
              "      <td>0</td>\n",
              "      <td>Complete with certificate of authenticity</td>\n",
              "    </tr>\n",
              "    <tr>\n",
              "      <th>...</th>\n",
              "      <td>...</td>\n",
              "      <td>...</td>\n",
              "      <td>...</td>\n",
              "      <td>...</td>\n",
              "      <td>...</td>\n",
              "      <td>...</td>\n",
              "      <td>...</td>\n",
              "    </tr>\n",
              "    <tr>\n",
              "      <th>49996</th>\n",
              "      <td>Camel Print Suede Leggings SPRING ITEM</td>\n",
              "      <td>1</td>\n",
              "      <td>Women/Athletic Apparel/Pants, Tights, Leggings</td>\n",
              "      <td>NaN</td>\n",
              "      <td>11.0</td>\n",
              "      <td>1</td>\n",
              "      <td>Absolutely gorgeous faux suede leggings! BRAND...</td>\n",
              "    </tr>\n",
              "    <tr>\n",
              "      <th>49997</th>\n",
              "      <td>Toddler Girls Zip-Up Gladiator Sandals</td>\n",
              "      <td>3</td>\n",
              "      <td>Kids/Girls 2T-5T/Shoes</td>\n",
              "      <td>NaN</td>\n",
              "      <td>8.0</td>\n",
              "      <td>1</td>\n",
              "      <td>Size 8. Excellent condition. Zip ups in the ba...</td>\n",
              "    </tr>\n",
              "    <tr>\n",
              "      <th>49998</th>\n",
              "      <td>[rm]--(2)Bundles for this price</td>\n",
              "      <td>1</td>\n",
              "      <td>NaN</td>\n",
              "      <td>Virgin Only</td>\n",
              "      <td>75.0</td>\n",
              "      <td>1</td>\n",
              "      <td>◇◇2 bundle Any length/FREE SHIPPING ◇◇¿¿¿¿¿◇Sa...</td>\n",
              "    </tr>\n",
              "    <tr>\n",
              "      <th>49999</th>\n",
              "      <td>VS PINK bling v-neck tshirt sz S</td>\n",
              "      <td>1</td>\n",
              "      <td>Women/Tops &amp; Blouses/T-Shirts</td>\n",
              "      <td>Victoria's Secret</td>\n",
              "      <td>50.0</td>\n",
              "      <td>1</td>\n",
              "      <td>PRICE FIRM ‼️ Don't ask for the lowest price p...</td>\n",
              "    </tr>\n",
              "    <tr>\n",
              "      <th>50000</th>\n",
              "      <td>Air Max 90 \"Summit Blue\" Sneakers</td>\n",
              "      <td>1</td>\n",
              "      <td>Men/Shoes/Fashion Sneakers</td>\n",
              "      <td>Nike</td>\n",
              "      <td>96.0</td>\n",
              "      <td>0</td>\n",
              "      <td>Air Max 90 Essential \"Summit Blue\" Sneakers - ...</td>\n",
              "    </tr>\n",
              "  </tbody>\n",
              "</table>\n",
              "<p>50001 rows × 7 columns</p>\n",
              "</div>\n",
              "      <button class=\"colab-df-convert\" onclick=\"convertToInteractive('df-97888dde-99a9-43ed-a461-2f7f8062bed7')\"\n",
              "              title=\"Convert this dataframe to an interactive table.\"\n",
              "              style=\"display:none;\">\n",
              "        \n",
              "  <svg xmlns=\"http://www.w3.org/2000/svg\" height=\"24px\"viewBox=\"0 0 24 24\"\n",
              "       width=\"24px\">\n",
              "    <path d=\"M0 0h24v24H0V0z\" fill=\"none\"/>\n",
              "    <path d=\"M18.56 5.44l.94 2.06.94-2.06 2.06-.94-2.06-.94-.94-2.06-.94 2.06-2.06.94zm-11 1L8.5 8.5l.94-2.06 2.06-.94-2.06-.94L8.5 2.5l-.94 2.06-2.06.94zm10 10l.94 2.06.94-2.06 2.06-.94-2.06-.94-.94-2.06-.94 2.06-2.06.94z\"/><path d=\"M17.41 7.96l-1.37-1.37c-.4-.4-.92-.59-1.43-.59-.52 0-1.04.2-1.43.59L10.3 9.45l-7.72 7.72c-.78.78-.78 2.05 0 2.83L4 21.41c.39.39.9.59 1.41.59.51 0 1.02-.2 1.41-.59l7.78-7.78 2.81-2.81c.8-.78.8-2.07 0-2.86zM5.41 20L4 18.59l7.72-7.72 1.47 1.35L5.41 20z\"/>\n",
              "  </svg>\n",
              "      </button>\n",
              "      \n",
              "  <style>\n",
              "    .colab-df-container {\n",
              "      display:flex;\n",
              "      flex-wrap:wrap;\n",
              "      gap: 12px;\n",
              "    }\n",
              "\n",
              "    .colab-df-convert {\n",
              "      background-color: #E8F0FE;\n",
              "      border: none;\n",
              "      border-radius: 50%;\n",
              "      cursor: pointer;\n",
              "      display: none;\n",
              "      fill: #1967D2;\n",
              "      height: 32px;\n",
              "      padding: 0 0 0 0;\n",
              "      width: 32px;\n",
              "    }\n",
              "\n",
              "    .colab-df-convert:hover {\n",
              "      background-color: #E2EBFA;\n",
              "      box-shadow: 0px 1px 2px rgba(60, 64, 67, 0.3), 0px 1px 3px 1px rgba(60, 64, 67, 0.15);\n",
              "      fill: #174EA6;\n",
              "    }\n",
              "\n",
              "    [theme=dark] .colab-df-convert {\n",
              "      background-color: #3B4455;\n",
              "      fill: #D2E3FC;\n",
              "    }\n",
              "\n",
              "    [theme=dark] .colab-df-convert:hover {\n",
              "      background-color: #434B5C;\n",
              "      box-shadow: 0px 1px 3px 1px rgba(0, 0, 0, 0.15);\n",
              "      filter: drop-shadow(0px 1px 2px rgba(0, 0, 0, 0.3));\n",
              "      fill: #FFFFFF;\n",
              "    }\n",
              "  </style>\n",
              "\n",
              "      <script>\n",
              "        const buttonEl =\n",
              "          document.querySelector('#df-97888dde-99a9-43ed-a461-2f7f8062bed7 button.colab-df-convert');\n",
              "        buttonEl.style.display =\n",
              "          google.colab.kernel.accessAllowed ? 'block' : 'none';\n",
              "\n",
              "        async function convertToInteractive(key) {\n",
              "          const element = document.querySelector('#df-97888dde-99a9-43ed-a461-2f7f8062bed7');\n",
              "          const dataTable =\n",
              "            await google.colab.kernel.invokeFunction('convertToInteractive',\n",
              "                                                     [key], {});\n",
              "          if (!dataTable) return;\n",
              "\n",
              "          const docLinkHtml = 'Like what you see? Visit the ' +\n",
              "            '<a target=\"_blank\" href=https://colab.research.google.com/notebooks/data_table.ipynb>data table notebook</a>'\n",
              "            + ' to learn more about interactive tables.';\n",
              "          element.innerHTML = '';\n",
              "          dataTable['output_type'] = 'display_data';\n",
              "          await google.colab.output.renderOutput(dataTable, element);\n",
              "          const docLink = document.createElement('div');\n",
              "          docLink.innerHTML = docLinkHtml;\n",
              "          element.appendChild(docLink);\n",
              "        }\n",
              "      </script>\n",
              "    </div>\n",
              "  </div>\n",
              "  "
            ]
          },
          "metadata": {},
          "execution_count": 23
        }
      ]
    },
    {
      "cell_type": "code",
      "source": [
        "data.shape"
      ],
      "metadata": {
        "colab": {
          "base_uri": "https://localhost:8080/"
        },
        "id": "ZnVDtQEOyivA",
        "outputId": "3ee8a7fb-5479-41d6-d6d8-4d3016e37192"
      },
      "execution_count": null,
      "outputs": [
        {
          "output_type": "execute_result",
          "data": {
            "text/plain": [
              "(50001, 7)"
            ]
          },
          "metadata": {},
          "execution_count": 24
        }
      ]
    },
    {
      "cell_type": "code",
      "source": [
        "data.info()"
      ],
      "metadata": {
        "colab": {
          "base_uri": "https://localhost:8080/"
        },
        "id": "lfjPB7ajzkHb",
        "outputId": "43cc61a0-4881-4827-b1ca-11f1afb7c29e"
      },
      "execution_count": null,
      "outputs": [
        {
          "output_type": "stream",
          "name": "stdout",
          "text": [
            "<class 'pandas.core.frame.DataFrame'>\n",
            "Int64Index: 50001 entries, 0 to 50000\n",
            "Data columns (total 7 columns):\n",
            " #   Column             Non-Null Count  Dtype  \n",
            "---  ------             --------------  -----  \n",
            " 0   name               50001 non-null  object \n",
            " 1   item_condition_id  50001 non-null  int64  \n",
            " 2   category_name      49764 non-null  object \n",
            " 3   brand_name         28417 non-null  object \n",
            " 4   price              50001 non-null  float64\n",
            " 5   shipping           50001 non-null  int64  \n",
            " 6   item_description   50001 non-null  object \n",
            "dtypes: float64(1), int64(2), object(4)\n",
            "memory usage: 3.1+ MB\n"
          ]
        }
      ]
    },
    {
      "cell_type": "code",
      "source": [
        "data.price.describe()"
      ],
      "metadata": {
        "colab": {
          "base_uri": "https://localhost:8080/"
        },
        "id": "SGMilc30zm3p",
        "outputId": "ebeb9377-2322-4dae-8fb0-85533c3689f0"
      },
      "execution_count": null,
      "outputs": [
        {
          "output_type": "execute_result",
          "data": {
            "text/plain": [
              "count    50001.000000\n",
              "mean        26.652837\n",
              "std         38.209339\n",
              "min          0.000000\n",
              "25%         10.000000\n",
              "50%         17.000000\n",
              "75%         29.000000\n",
              "max       1506.000000\n",
              "Name: price, dtype: float64"
            ]
          },
          "metadata": {},
          "execution_count": 27
        }
      ]
    },
    {
      "cell_type": "code",
      "source": [
        "(data['price']).plot.hist(bins=50, figsize=(12, 6), edgecolor = 'white', range = [0, 250])\n",
        "plt.xlabel('price', fontsize=12)\n",
        "plt.title('Price Distribution', fontsize=12)\n"
      ],
      "metadata": {
        "colab": {
          "base_uri": "https://localhost:8080/",
          "height": 424
        },
        "id": "K3AF6Hdgzvg4",
        "outputId": "eb312cc8-c714-46df-e94f-01b778291829"
      },
      "execution_count": null,
      "outputs": [
        {
          "output_type": "execute_result",
          "data": {
            "text/plain": [
              "Text(0.5, 1.0, 'Price Distribution')"
            ]
          },
          "metadata": {},
          "execution_count": 30
        },
        {
          "output_type": "display_data",
          "data": {
            "text/plain": [
              "<Figure size 864x432 with 1 Axes>"
            ],
            "image/png": "[encoded data removed]"
          },
          "metadata": {
            "needs_background": "light"
          }
        }
      ]
    },
    {
      "cell_type": "code",
      "source": [
        "np.log(data['price']+1).plot.hist(bins=50, figsize=(12,6), edgecolor='white')\n",
        "plt.xlabel('log(price+1)', fontsize=12)\n",
        "plt.title('Price Distribution', fontsize=12)"
      ],
      "metadata": {
        "colab": {
          "base_uri": "https://localhost:8080/",
          "height": 424
        },
        "id": "bE1ptbFT0FUk",
        "outputId": "e19403c0-3e51-4e62-c990-e98627a178b3"
      },
      "execution_count": null,
      "outputs": [
        {
          "output_type": "execute_result",
          "data": {
            "text/plain": [
              "Text(0.5, 1.0, 'Price Distribution')"
            ]
          },
          "metadata": {},
          "execution_count": 31
        },
        {
          "output_type": "display_data",
          "data": {
            "text/plain": [
              "<Figure size 864x432 with 1 Axes>"
            ],
            "image/png": "[encoded data removed]"
          },
          "metadata": {
            "needs_background": "light"
          }
        }
      ]
    },
    {
      "cell_type": "code",
      "source": [
        "#The price of items are left skewed, vast majority of items priced at 10-20. However, the most expensive item priced at 2009. So we make log-transformation on the price."
      ],
      "metadata": {
        "id": "qepcVd_F0Ixw"
      },
      "execution_count": null,
      "outputs": []
    },
    {
      "cell_type": "code",
      "source": [
        "data[\"item_condition_id\"].value_counts()"
      ],
      "metadata": {
        "colab": {
          "base_uri": "https://localhost:8080/"
        },
        "id": "6j2Fa_aQ0PFE",
        "outputId": "935d36de-26b1-4ba4-ee0d-9b688ebf2e3b"
      },
      "execution_count": null,
      "outputs": [
        {
          "output_type": "execute_result",
          "data": {
            "text/plain": [
              "1    21574\n",
              "3    14532\n",
              "2    12706\n",
              "4     1093\n",
              "5       96\n",
              "Name: item_condition_id, dtype: int64"
            ]
          },
          "metadata": {},
          "execution_count": 34
        }
      ]
    },
    {
      "cell_type": "code",
      "source": [
        "data[data[\"item_condition_id\"]==5]"
      ],
      "metadata": {
        "colab": {
          "base_uri": "https://localhost:8080/",
          "height": 455
        },
        "id": "nxbQ9qFj0rnh",
        "outputId": "445b6f2e-4001-4fd1-a023-ca6fec3f130a"
      },
      "execution_count": null,
      "outputs": [
        {
          "output_type": "execute_result",
          "data": {
            "text/plain": [
              "                                           name  item_condition_id  \\\n",
              "train_id                                                             \n",
              "258                                 ACER Laptop                  5   \n",
              "653                Fossil vintage renewal purse                  5   \n",
              "1027                            Broken necklace                  5   \n",
              "2436       Gameboy advance sp ags-101 FOR PARTS                  5   \n",
              "2803                 2 Pounds Of \"Junk\" Jewelry                  5   \n",
              "...                                         ...                ...   \n",
              "48250        Samsung galaxy core prime unlocked                  5   \n",
              "48351                       American girl dolls                  5   \n",
              "48991     Samsung prevail 8g android parts only                  5   \n",
              "49139                                 IPhone 5s                  5   \n",
              "49181       Iphone 5s (Icloud Locked) For parts                  5   \n",
              "\n",
              "                                              category_name  \\\n",
              "train_id                                                      \n",
              "258                                                     NaN   \n",
              "653                     Women/Women's Handbags/Shoulder Bag   \n",
              "1027                                Women/Jewelry/Necklaces   \n",
              "2436                                      Other/Other/Other   \n",
              "2803                               Handmade/Jewelry/Jewelry   \n",
              "...                                                     ...   \n",
              "48250     Electronics/Cell Phones & Accessories/Cell Pho...   \n",
              "48351                         Kids/Toys/Dolls & Accessories   \n",
              "48991     Electronics/Cell Phones & Accessories/Cell Pho...   \n",
              "49139     Electronics/Cell Phones & Accessories/Cell Pho...   \n",
              "49181     Electronics/Cell Phones & Accessories/Cell Pho...   \n",
              "\n",
              "                   brand_name  price  shipping  \\\n",
              "train_id                                         \n",
              "258                       NaN   14.0         0   \n",
              "653                    Fossil   36.0         0   \n",
              "1027                      NaN   20.0         1   \n",
              "2436                      NaN   24.0         0   \n",
              "2803                      NaN   11.0         0   \n",
              "...                       ...    ...       ...   \n",
              "48250                 Samsung   18.0         1   \n",
              "48351     American Boy & Girl  119.0         0   \n",
              "48991                 Samsung   10.0         1   \n",
              "49139                     NaN   73.0         0   \n",
              "49181                   Apple   30.0         0   \n",
              "\n",
              "                                           item_description  \n",
              "train_id                                                     \n",
              "258       Powers on, no screen display, no external dama...  \n",
              "653                                      No description yet  \n",
              "1027                   10k gold 18\" chain. Broken at clasp.  \n",
              "2436      For parts . Turns on and hold battery charge ....  \n",
              "2803      2 pounds of junk jewelry, There are some items...  \n",
              "...                                                     ...  \n",
              "48250     Samsung galaxy core prime unlocked has a crack...  \n",
              "48351     3 TLC dolls, They all have shine marks, Josefi...  \n",
              "48991     Samsung prevail still works perfectly (camera ...  \n",
              "49139     T-Mobile Broken screen Clean Imei 013973003770370  \n",
              "49181     Condition: In Really good condition clean imei...  \n",
              "\n",
              "[96 rows x 7 columns]"
            ],
            "text/html": [
              "\n",
              "  <div id=\"df-eeab12a4-8337-44f4-a67b-f5169b341fb9\">\n",
              "    <div class=\"colab-df-container\">\n",
              "      <div>\n",
              "<style scoped>\n",
              "    .dataframe tbody tr th:only-of-type {\n",
              "        vertical-align: middle;\n",
              "    }\n",
              "\n",
              "    .dataframe tbody tr th {\n",
              "        vertical-align: top;\n",
              "    }\n",
              "\n",
              "    .dataframe thead th {\n",
              "        text-align: right;\n",
              "    }\n",
              "</style>\n",
              "<table border=\"1\" class=\"dataframe\">\n",
              "  <thead>\n",
              "    <tr style=\"text-align: right;\">\n",
              "      <th></th>\n",
              "      <th>name</th>\n",
              "      <th>item_condition_id</th>\n",
              "      <th>category_name</th>\n",
              "      <th>brand_name</th>\n",
              "      <th>price</th>\n",
              "      <th>shipping</th>\n",
              "      <th>item_description</th>\n",
              "    </tr>\n",
              "    <tr>\n",
              "      <th>train_id</th>\n",
              "      <th></th>\n",
              "      <th></th>\n",
              "      <th></th>\n",
              "      <th></th>\n",
              "      <th></th>\n",
              "      <th></th>\n",
              "      <th></th>\n",
              "    </tr>\n",
              "  </thead>\n",
              "  <tbody>\n",
              "    <tr>\n",
              "      <th>258</th>\n",
              "      <td>ACER Laptop</td>\n",
              "      <td>5</td>\n",
              "      <td>NaN</td>\n",
              "      <td>NaN</td>\n",
              "      <td>14.0</td>\n",
              "      <td>0</td>\n",
              "      <td>Powers on, no screen display, no external dama...</td>\n",
              "    </tr>\n",
              "    <tr>\n",
              "      <th>653</th>\n",
              "      <td>Fossil vintage renewal purse</td>\n",
              "      <td>5</td>\n",
              "      <td>Women/Women's Handbags/Shoulder Bag</td>\n",
              "      <td>Fossil</td>\n",
              "      <td>36.0</td>\n",
              "      <td>0</td>\n",
              "      <td>No description yet</td>\n",
              "    </tr>\n",
              "    <tr>\n",
              "      <th>1027</th>\n",
              "      <td>Broken necklace</td>\n",
              "      <td>5</td>\n",
              "      <td>Women/Jewelry/Necklaces</td>\n",
              "      <td>NaN</td>\n",
              "      <td>20.0</td>\n",
              "      <td>1</td>\n",
              "      <td>10k gold 18\" chain. Broken at clasp.</td>\n",
              "    </tr>\n",
              "    <tr>\n",
              "      <th>2436</th>\n",
              "      <td>Gameboy advance sp ags-101 FOR PARTS</td>\n",
              "      <td>5</td>\n",
              "      <td>Other/Other/Other</td>\n",
              "      <td>NaN</td>\n",
              "      <td>24.0</td>\n",
              "      <td>0</td>\n",
              "      <td>For parts . Turns on and hold battery charge ....</td>\n",
              "    </tr>\n",
              "    <tr>\n",
              "      <th>2803</th>\n",
              "      <td>2 Pounds Of \"Junk\" Jewelry</td>\n",
              "      <td>5</td>\n",
              "      <td>Handmade/Jewelry/Jewelry</td>\n",
              "      <td>NaN</td>\n",
              "      <td>11.0</td>\n",
              "      <td>0</td>\n",
              "      <td>2 pounds of junk jewelry, There are some items...</td>\n",
              "    </tr>\n",
              "    <tr>\n",
              "      <th>...</th>\n",
              "      <td>...</td>\n",
              "      <td>...</td>\n",
              "      <td>...</td>\n",
              "      <td>...</td>\n",
              "      <td>...</td>\n",
              "      <td>...</td>\n",
              "      <td>...</td>\n",
              "    </tr>\n",
              "    <tr>\n",
              "      <th>48250</th>\n",
              "      <td>Samsung galaxy core prime unlocked</td>\n",
              "      <td>5</td>\n",
              "      <td>Electronics/Cell Phones &amp; Accessories/Cell Pho...</td>\n",
              "      <td>Samsung</td>\n",
              "      <td>18.0</td>\n",
              "      <td>1</td>\n",
              "      <td>Samsung galaxy core prime unlocked has a crack...</td>\n",
              "    </tr>\n",
              "    <tr>\n",
              "      <th>48351</th>\n",
              "      <td>American girl dolls</td>\n",
              "      <td>5</td>\n",
              "      <td>Kids/Toys/Dolls &amp; Accessories</td>\n",
              "      <td>American Boy &amp; Girl</td>\n",
              "      <td>119.0</td>\n",
              "      <td>0</td>\n",
              "      <td>3 TLC dolls, They all have shine marks, Josefi...</td>\n",
              "    </tr>\n",
              "    <tr>\n",
              "      <th>48991</th>\n",
              "      <td>Samsung prevail 8g android parts only</td>\n",
              "      <td>5</td>\n",
              "      <td>Electronics/Cell Phones &amp; Accessories/Cell Pho...</td>\n",
              "      <td>Samsung</td>\n",
              "      <td>10.0</td>\n",
              "      <td>1</td>\n",
              "      <td>Samsung prevail still works perfectly (camera ...</td>\n",
              "    </tr>\n",
              "    <tr>\n",
              "      <th>49139</th>\n",
              "      <td>IPhone 5s</td>\n",
              "      <td>5</td>\n",
              "      <td>Electronics/Cell Phones &amp; Accessories/Cell Pho...</td>\n",
              "      <td>NaN</td>\n",
              "      <td>73.0</td>\n",
              "      <td>0</td>\n",
              "      <td>T-Mobile Broken screen Clean Imei 013973003770370</td>\n",
              "    </tr>\n",
              "    <tr>\n",
              "      <th>49181</th>\n",
              "      <td>Iphone 5s (Icloud Locked) For parts</td>\n",
              "      <td>5</td>\n",
              "      <td>Electronics/Cell Phones &amp; Accessories/Cell Pho...</td>\n",
              "      <td>Apple</td>\n",
              "      <td>30.0</td>\n",
              "      <td>0</td>\n",
              "      <td>Condition: In Really good condition clean imei...</td>\n",
              "    </tr>\n",
              "  </tbody>\n",
              "</table>\n",
              "<p>96 rows × 7 columns</p>\n",
              "</div>\n",
              "      <button class=\"colab-df-convert\" onclick=\"convertToInteractive('df-eeab12a4-8337-44f4-a67b-f5169b341fb9')\"\n",
              "              title=\"Convert this dataframe to an interactive table.\"\n",
              "              style=\"display:none;\">\n",
              "        \n",
              "  <svg xmlns=\"http://www.w3.org/2000/svg\" height=\"24px\"viewBox=\"0 0 24 24\"\n",
              "       width=\"24px\">\n",
              "    <path d=\"M0 0h24v24H0V0z\" fill=\"none\"/>\n",
              "    <path d=\"M18.56 5.44l.94 2.06.94-2.06 2.06-.94-2.06-.94-.94-2.06-.94 2.06-2.06.94zm-11 1L8.5 8.5l.94-2.06 2.06-.94-2.06-.94L8.5 2.5l-.94 2.06-2.06.94zm10 10l.94 2.06.94-2.06 2.06-.94-2.06-.94-.94-2.06-.94 2.06-2.06.94z\"/><path d=\"M17.41 7.96l-1.37-1.37c-.4-.4-.92-.59-1.43-.59-.52 0-1.04.2-1.43.59L10.3 9.45l-7.72 7.72c-.78.78-.78 2.05 0 2.83L4 21.41c.39.39.9.59 1.41.59.51 0 1.02-.2 1.41-.59l7.78-7.78 2.81-2.81c.8-.78.8-2.07 0-2.86zM5.41 20L4 18.59l7.72-7.72 1.47 1.35L5.41 20z\"/>\n",
              "  </svg>\n",
              "      </button>\n",
              "      \n",
              "  <style>\n",
              "    .colab-df-container {\n",
              "      display:flex;\n",
              "      flex-wrap:wrap;\n",
              "      gap: 12px;\n",
              "    }\n",
              "\n",
              "    .colab-df-convert {\n",
              "      background-color: #E8F0FE;\n",
              "      border: none;\n",
              "      border-radius: 50%;\n",
              "      cursor: pointer;\n",
              "      display: none;\n",
              "      fill: #1967D2;\n",
              "      height: 32px;\n",
              "      padding: 0 0 0 0;\n",
              "      width: 32px;\n",
              "    }\n",
              "\n",
              "    .colab-df-convert:hover {\n",
              "      background-color: #E2EBFA;\n",
              "      box-shadow: 0px 1px 2px rgba(60, 64, 67, 0.3), 0px 1px 3px 1px rgba(60, 64, 67, 0.15);\n",
              "      fill: #174EA6;\n",
              "    }\n",
              "\n",
              "    [theme=dark] .colab-df-convert {\n",
              "      background-color: #3B4455;\n",
              "      fill: #D2E3FC;\n",
              "    }\n",
              "\n",
              "    [theme=dark] .colab-df-convert:hover {\n",
              "      background-color: #434B5C;\n",
              "      box-shadow: 0px 1px 3px 1px rgba(0, 0, 0, 0.15);\n",
              "      filter: drop-shadow(0px 1px 2px rgba(0, 0, 0, 0.3));\n",
              "      fill: #FFFFFF;\n",
              "    }\n",
              "  </style>\n",
              "\n",
              "      <script>\n",
              "        const buttonEl =\n",
              "          document.querySelector('#df-eeab12a4-8337-44f4-a67b-f5169b341fb9 button.colab-df-convert');\n",
              "        buttonEl.style.display =\n",
              "          google.colab.kernel.accessAllowed ? 'block' : 'none';\n",
              "\n",
              "        async function convertToInteractive(key) {\n",
              "          const element = document.querySelector('#df-eeab12a4-8337-44f4-a67b-f5169b341fb9');\n",
              "          const dataTable =\n",
              "            await google.colab.kernel.invokeFunction('convertToInteractive',\n",
              "                                                     [key], {});\n",
              "          if (!dataTable) return;\n",
              "\n",
              "          const docLinkHtml = 'Like what you see? Visit the ' +\n",
              "            '<a target=\"_blank\" href=https://colab.research.google.com/notebooks/data_table.ipynb>data table notebook</a>'\n",
              "            + ' to learn more about interactive tables.';\n",
              "          element.innerHTML = '';\n",
              "          dataTable['output_type'] = 'display_data';\n",
              "          await google.colab.output.renderOutput(dataTable, element);\n",
              "          const docLink = document.createElement('div');\n",
              "          docLink.innerHTML = docLinkHtml;\n",
              "          element.appendChild(docLink);\n",
              "        }\n",
              "      </script>\n",
              "    </div>\n",
              "  </div>\n",
              "  "
            ]
          },
          "metadata": {},
          "execution_count": 35
        }
      ]
    },
    {
      "cell_type": "code",
      "source": [
        "data[\"category_name\"].value_counts()"
      ],
      "metadata": {
        "colab": {
          "base_uri": "https://localhost:8080/"
        },
        "id": "VJRZWmuk1PZd",
        "outputId": "1039f9c1-8ad7-45e3-a9ba-2fd58161fc19"
      },
      "execution_count": null,
      "outputs": [
        {
          "output_type": "execute_result",
          "data": {
            "text/plain": [
              "Women/Athletic Apparel/Pants, Tights, Leggings                 2018\n",
              "Women/Tops & Blouses/T-Shirts                                  1541\n",
              "Beauty/Makeup/Face                                             1161\n",
              "Beauty/Makeup/Lips                                             1039\n",
              "Electronics/Cell Phones & Accessories/Cases, Covers & Skins     888\n",
              "                                                               ... \n",
              "Home/Bath/Other                                                   1\n",
              "Vintage & Collectibles/Home Decor/Candle Holder                   1\n",
              "Vintage & Collectibles/Book/Children                              1\n",
              "Home/Home Appliances/Microwaves                                   1\n",
              "Electronics/Cell Phones & Accessories/Other                       1\n",
              "Name: category_name, Length: 881, dtype: int64"
            ]
          },
          "metadata": {},
          "execution_count": 38
        }
      ]
    },
    {
      "cell_type": "code",
      "source": [
        "data[\"brand_name\"].value_counts()"
      ],
      "metadata": {
        "colab": {
          "base_uri": "https://localhost:8080/"
        },
        "id": "QtxPB8qg1dVN",
        "outputId": "9f82f670-29a4-4c74-ac12-8ce84255f023"
      },
      "execution_count": null,
      "outputs": [
        {
          "output_type": "execute_result",
          "data": {
            "text/plain": [
              "PINK                       1876\n",
              "Nike                       1783\n",
              "Victoria's Secret          1554\n",
              "LuLaRoe                    1056\n",
              "Apple                       591\n",
              "                           ... \n",
              "Exo-Terra                     1\n",
              "Furminator                    1\n",
              "Perry Ellis                   1\n",
              "Warner Brothers               1\n",
              "Beverly Hills Polo Club       1\n",
              "Name: brand_name, Length: 1538, dtype: int64"
            ]
          },
          "metadata": {},
          "execution_count": 39
        }
      ]
    },
    {
      "cell_type": "code",
      "source": [
        "data[\"shipping\"].value_counts()/len(data)"
      ],
      "metadata": {
        "colab": {
          "base_uri": "https://localhost:8080/"
        },
        "id": "WIp1kfuB1mwD",
        "outputId": "306ca385-fb3c-4d4b-c450-cd8614bfc11b"
      },
      "execution_count": null,
      "outputs": [
        {
          "output_type": "execute_result",
          "data": {
            "text/plain": [
              "0    0.551669\n",
              "1    0.448331\n",
              "Name: shipping, dtype: float64"
            ]
          },
          "metadata": {},
          "execution_count": 41
        }
      ]
    },
    {
      "cell_type": "markdown",
      "source": [
        "- Over 55% of items shipping fee were paid by the buyers. How shipping related \n",
        "\n",
        "1.   List item\n",
        "2.   List item\n",
        "\n",
        "to price?"
      ],
      "metadata": {
        "id": "CCtgx-pQ2FQd"
      }
    },
    {
      "cell_type": "code",
      "source": [
        "shipping_fee_by_buyer = data.loc[data['shipping'] == 0, 'price']\n",
        "shipping_fee_by_seller = data.loc[data['shipping'] == 1, 'price']\n",
        "\n",
        "fig, ax = plt.subplots(figsize=(18,8))\n",
        "ax.hist(shipping_fee_by_seller, color='#8CB4E1', alpha=1.0, bins=50, range = [0, 100],\n",
        "       label='Price when Seller pays Shipping')\n",
        "ax.hist(shipping_fee_by_buyer, color='#007D00', alpha=0.7, bins=50, range = [0, 100],\n",
        "       label='Price when Buyer pays Shipping')\n",
        "plt.xlabel('price', fontsize=12)\n",
        "plt.ylabel('frequency', fontsize=12)\n",
        "plt.title('Price Distribution by Shipping Type', fontsize=15)\n",
        "plt.tick_params(labelsize=12)\n",
        "plt.legend()\n",
        "plt.show()"
      ],
      "metadata": {
        "colab": {
          "base_uri": "https://localhost:8080/",
          "height": 521
        },
        "id": "0ravzdjh2NkF",
        "outputId": "13458258-7a06-4443-c705-74c9269d1580"
      },
      "execution_count": null,
      "outputs": [
        {
          "output_type": "display_data",
          "data": {
            "text/plain": [
              "<Figure size 1296x576 with 1 Axes>"
            ],
            "image/png": "[encoded data removed]"
          },
          "metadata": {
            "needs_background": "light"
          }
        }
      ]
    },
    {
      "cell_type": "code",
      "source": [
        "print('The average price is {}'.format(round(shipping_fee_by_seller.mean(), 2)), 'if seller pays shipping');\n",
        "print('The average price is {}'.format(round(shipping_fee_by_buyer.mean(), 2)), 'if buyer pays shipping')"
      ],
      "metadata": {
        "colab": {
          "base_uri": "https://localhost:8080/"
        },
        "id": "pqY2u2V92cb_",
        "outputId": "ed4d3884-0b3b-432d-ed10-a75b918c2a2e"
      },
      "execution_count": null,
      "outputs": [
        {
          "output_type": "stream",
          "name": "stdout",
          "text": [
            "The average price is 22.42 if seller pays shipping\n",
            "The average price is 30.09 if buyer pays shipping\n"
          ]
        }
      ]
    },
    {
      "cell_type": "markdown",
      "source": [
        "- We compare again after log-transformation on the price."
      ],
      "metadata": {
        "id": "GZz-0e7Q2r9m"
      }
    },
    {
      "cell_type": "code",
      "source": [
        "fig, ax = plt.subplots(figsize=(18,8))\n",
        "ax.hist(np.log(shipping_fee_by_seller+1), color='#8CB4E1', alpha=1.0, bins=50,\n",
        "       label='Price when Seller pays Shipping')\n",
        "ax.hist(np.log(shipping_fee_by_buyer+1), color='#007D00', alpha=0.7, bins=50,\n",
        "       label='Price when Buyer pays Shipping')\n",
        "plt.xlabel('log(price+1)', fontsize=12)\n",
        "plt.ylabel('frequency', fontsize=12)\n",
        "plt.title('Price Distribution by Shipping Type', fontsize=15)\n",
        "plt.tick_params(labelsize=12)\n",
        "plt.legend()\n",
        "plt.show()"
      ],
      "metadata": {
        "colab": {
          "base_uri": "https://localhost:8080/",
          "height": 521
        },
        "id": "4A93iON72tJb",
        "outputId": "f520096e-92ac-4399-b306-215117f18a39"
      },
      "execution_count": null,
      "outputs": [
        {
          "output_type": "display_data",
          "data": {
            "text/plain": [
              "<Figure size 1296x576 with 1 Axes>"
            ],
            "image/png": "[encoded data removed]"
          },
          "metadata": {
            "needs_background": "light"
          }
        }
      ]
    },
    {
      "cell_type": "markdown",
      "source": [
        "its obvious that price is higher if buyer pays shipping"
      ],
      "metadata": {
        "id": "P8Xxk2LI3Coc"
      }
    },
    {
      "cell_type": "markdown",
      "source": [
        "## Category names"
      ],
      "metadata": {
        "id": "blXb7A5m3ode"
      }
    },
    {
      "cell_type": "code",
      "source": [
        "print('There are', datab['category_name'].nunique(), 'unique values in category name column')"
      ],
      "metadata": {
        "colab": {
          "base_uri": "https://localhost:8080/"
        },
        "id": "esUsA_Ij3qe3",
        "outputId": "2ceeea64-1eea-44d7-8cc9-ea339c1ef532"
      },
      "execution_count": null,
      "outputs": [
        {
          "output_type": "stream",
          "name": "stdout",
          "text": [
            "There are 881 unique values in category name column\n"
          ]
        }
      ]
    },
    {
      "cell_type": "code",
      "source": [
        "data['category_name'].value_counts()[:10]"
      ],
      "metadata": {
        "colab": {
          "base_uri": "https://localhost:8080/"
        },
        "id": "xaZA5L6n4I3q",
        "outputId": "207dc2db-63c9-47c2-8cf8-5a46d998a95b"
      },
      "execution_count": null,
      "outputs": [
        {
          "output_type": "execute_result",
          "data": {
            "text/plain": [
              "Women/Athletic Apparel/Pants, Tights, Leggings                 2018\n",
              "Women/Tops & Blouses/T-Shirts                                  1541\n",
              "Beauty/Makeup/Face                                             1161\n",
              "Beauty/Makeup/Lips                                             1039\n",
              "Electronics/Cell Phones & Accessories/Cases, Covers & Skins     888\n",
              "Beauty/Makeup/Eyes                                              881\n",
              "Electronics/Video Games & Consoles/Games                        844\n",
              "Women/Underwear/Bras                                            728\n",
              "Women/Tops & Blouses/Tank, Cami                                 713\n",
              "Women/Athletic Apparel/Shorts                                   688\n",
              "Name: category_name, dtype: int64"
            ]
          },
          "metadata": {},
          "execution_count": 49
        }
      ]
    },
    {
      "cell_type": "code",
      "source": [
        "sns.boxplot(x = 'item_condition_id', y = np.log(data['price']+1), data = data, palette = sns.color_palette('RdBu',5))\n"
      ],
      "metadata": {
        "colab": {
          "base_uri": "https://localhost:8080/",
          "height": 297
        },
        "id": "MVYpg44Q4QZ9",
        "outputId": "6d2e406d-e317-41a6-c227-d33ab63e8e71"
      },
      "execution_count": null,
      "outputs": [
        {
          "output_type": "execute_result",
          "data": {
            "text/plain": [
              "<matplotlib.axes._subplots.AxesSubplot at 0x7f9643cf4150>"
            ]
          },
          "metadata": {},
          "execution_count": 51
        },
        {
          "output_type": "display_data",
          "data": {
            "text/plain": [
              "<Figure size 432x288 with 1 Axes>"
            ],
            "image/png": "[encoded data removed]"
          },
          "metadata": {
            "needs_background": "light"
          }
        }
      ]
    },
    {
      "cell_type": "code",
      "source": [
        "print('There are %d items that do not have a category name.' %data['category_name'].isnull().sum())"
      ],
      "metadata": {
        "colab": {
          "base_uri": "https://localhost:8080/"
        },
        "id": "_H54M2KA4mmS",
        "outputId": "9ec82468-8953-48c3-ee7e-9044498908a9"
      },
      "execution_count": null,
      "outputs": [
        {
          "output_type": "stream",
          "name": "stdout",
          "text": [
            "There are 237 items that do not have a category name.\n"
          ]
        }
      ]
    },
    {
      "cell_type": "code",
      "source": [
        "print('There are %d items that do not have a brand name.' %data['brand_name'].isnull().sum())"
      ],
      "metadata": {
        "colab": {
          "base_uri": "https://localhost:8080/"
        },
        "id": "r7Y_EOvu4p-Q",
        "outputId": "01192689-27c5-458f-f199-ce8fbb270be8"
      },
      "execution_count": null,
      "outputs": [
        {
          "output_type": "stream",
          "name": "stdout",
          "text": [
            "There are 21584 items that do not have a brand name.\n"
          ]
        }
      ]
    },
    {
      "cell_type": "code",
      "source": [
        "print('There are %d items that do not have a description.' %data['item_description'].isnull().sum())\n"
      ],
      "metadata": {
        "colab": {
          "base_uri": "https://localhost:8080/"
        },
        "id": "FlfGN4-Y4yP9",
        "outputId": "25bf70b6-e405-4fb5-d2ad-1a18a3220d5e"
      },
      "execution_count": null,
      "outputs": [
        {
          "output_type": "stream",
          "name": "stdout",
          "text": [
            "There are 0 items that do not have a description.\n"
          ]
        }
      ]
    },
    {
      "cell_type": "code",
      "source": [
        "def handle_missing_inplace(dataset): \n",
        "    dataset['category_name'].fillna(value='missing', inplace=True) \n",
        "    dataset['brand_name'].fillna(value='missing', inplace=True) \n",
        "    dataset['item_description'].replace('No description yet,''missing', inplace=True) \n",
        "    dataset['item_description'].fillna(value='missing', inplace=True)"
      ],
      "metadata": {
        "id": "ABpuDHrG45bH"
      },
      "execution_count": null,
      "outputs": []
    },
    {
      "cell_type": "code",
      "source": [
        "def cutting(dataset):\n",
        "    pop_brand = dataset['brand_name'].value_counts().loc[lambda x: x.index != 'missing'].index[:NUM_BRANDS]\n",
        "    dataset.loc[~dataset['brand_name'].isin(pop_brand), 'brand_name'] = 'missing'\n",
        "    pop_category = dataset['category_name'].value_counts().loc[lambda x: x.index != 'missing'].index[:NUM_CATEGORIES]"
      ],
      "metadata": {
        "id": "jr23Tcy545hK"
      },
      "execution_count": null,
      "outputs": []
    },
    {
      "cell_type": "code",
      "source": [
        "def to_categorical(dataset):\n",
        "    dataset['category_name'] = dataset['category_name'].astype('category')\n",
        "    dataset['brand_name'] = dataset['brand_name'].astype('category')\n",
        "    dataset['item_condition_id'] = dataset['item_condition_id'].astype('category')"
      ],
      "metadata": {
        "id": "ainPjE7L5F__"
      },
      "execution_count": null,
      "outputs": []
    },
    {
      "cell_type": "code",
      "source": [
        "data= data[data.price != 0].reset_index(drop=True)"
      ],
      "metadata": {
        "id": "iOfz6I6G5IQ7"
      },
      "execution_count": null,
      "outputs": []
    },
    {
      "cell_type": "code",
      "source": [
        "data.shape"
      ],
      "metadata": {
        "colab": {
          "base_uri": "https://localhost:8080/"
        },
        "id": "Eoyt6Ooa5VcC",
        "outputId": "52bc5018-0796-428b-9178-1edf255dd592"
      },
      "execution_count": null,
      "outputs": [
        {
          "output_type": "execute_result",
          "data": {
            "text/plain": [
              "(49961, 7)"
            ]
          },
          "metadata": {},
          "execution_count": 60
        }
      ]
    },
    {
      "cell_type": "code",
      "source": [
        "x=data.drop(columns=[\"price\"])\n",
        "y=data[\"price\"]\n",
        "train_x,test_x,train_y,test_y=train_test_split(x,y)"
      ],
      "metadata": {
        "id": "CBQFRiK-5YNm"
      },
      "execution_count": null,
      "outputs": []
    },
    {
      "cell_type": "code",
      "source": [
        "train_x.shape"
      ],
      "metadata": {
        "colab": {
          "base_uri": "https://localhost:8080/"
        },
        "id": "j_7uIliM6YkA",
        "outputId": "348a8fb3-3e04-4b0d-cb57-380bee6700e7"
      },
      "execution_count": null,
      "outputs": [
        {
          "output_type": "execute_result",
          "data": {
            "text/plain": [
              "(37470, 6)"
            ]
          },
          "metadata": {},
          "execution_count": 63
        }
      ]
    },
    {
      "cell_type": "code",
      "source": [
        "test_x.shape"
      ],
      "metadata": {
        "colab": {
          "base_uri": "https://localhost:8080/"
        },
        "id": "a338E3cx6mIQ",
        "outputId": "89980e81-97fa-4cfa-f0d5-6de8409471c5"
      },
      "execution_count": null,
      "outputs": [
        {
          "output_type": "execute_result",
          "data": {
            "text/plain": [
              "(12491, 6)"
            ]
          },
          "metadata": {},
          "execution_count": 65
        }
      ]
    },
    {
      "cell_type": "code",
      "source": [
        "test_y.shape"
      ],
      "metadata": {
        "colab": {
          "base_uri": "https://localhost:8080/"
        },
        "id": "5rJ6KZu76xWz",
        "outputId": "3bcc719c-1322-4cd0-f81e-5c061fb54abc"
      },
      "execution_count": null,
      "outputs": [
        {
          "output_type": "execute_result",
          "data": {
            "text/plain": [
              "(12491,)"
            ]
          },
          "metadata": {},
          "execution_count": 69
        }
      ]
    },
    {
      "cell_type": "code",
      "source": [
        "train_y.shape"
      ],
      "metadata": {
        "colab": {
          "base_uri": "https://localhost:8080/"
        },
        "id": "3XH8EMX969pA",
        "outputId": "fc3d41a6-5b72-49da-bc13-8821ab091f8d"
      },
      "execution_count": null,
      "outputs": [
        {
          "output_type": "execute_result",
          "data": {
            "text/plain": [
              "(37470,)"
            ]
          },
          "metadata": {},
          "execution_count": 70
        }
      ]
    },
    {
      "cell_type": "code",
      "source": [
        "test_y= np.log1p(test_y)"
      ],
      "metadata": {
        "id": "J_V5f7co7Nty"
      },
      "execution_count": null,
      "outputs": []
    },
    {
      "cell_type": "code",
      "source": [
        "train_y= np.log1p(train_y)"
      ],
      "metadata": {
        "id": "VT1KHt9s7jTI"
      },
      "execution_count": null,
      "outputs": []
    },
    {
      "cell_type": "code",
      "source": [
        "NUM_BRANDS = 4000\n",
        "NUM_CATEGORIES = 1000\n",
        "NAME_MIN_DF = 10\n",
        "MAX_FEATURES_ITEM_DESCRIPTION = 50000"
      ],
      "metadata": {
        "id": "t5xoPIiK7v4j"
      },
      "execution_count": null,
      "outputs": []
    },
    {
      "cell_type": "code",
      "source": [
        "merge: pd.DataFrame = pd.concat([train_x, test_x])"
      ],
      "metadata": {
        "id": "KIDuKUUu735e"
      },
      "execution_count": null,
      "outputs": []
    },
    {
      "cell_type": "code",
      "source": [
        "handle_missing_inplace(merge)\n",
        "cutting(merge)\n",
        "to_categorical(merge)"
      ],
      "metadata": {
        "id": "nkAT_AuM8ABJ"
      },
      "execution_count": null,
      "outputs": []
    },
    {
      "cell_type": "code",
      "source": [
        "cv = CountVectorizer(min_df=NAME_MIN_DF)\n",
        "X_name = cv.fit_transform(merge['name'])"
      ],
      "metadata": {
        "id": "VXjHaFLU8Dy2"
      },
      "execution_count": null,
      "outputs": []
    },
    {
      "cell_type": "code",
      "source": [
        "cv = CountVectorizer()\n",
        "X_category = cv.fit_transform(merge['category_name'])"
      ],
      "metadata": {
        "id": "Tr1V5PIs8HCd"
      },
      "execution_count": null,
      "outputs": []
    },
    {
      "cell_type": "code",
      "source": [
        "tv = TfidfVectorizer(max_features=MAX_FEATURES_ITEM_DESCRIPTION, ngram_range=(1, 3), stop_words='english')\n",
        "X_description = tv.fit_transform(merge['item_description'])"
      ],
      "metadata": {
        "id": "ShhrC5lm8LQc"
      },
      "execution_count": null,
      "outputs": []
    },
    {
      "cell_type": "code",
      "source": [
        "lb = LabelBinarizer(sparse_output=True)\n",
        "X_brand = lb.fit_transform(merge['brand_name'])"
      ],
      "metadata": {
        "id": "TVFpHKdA8PQA"
      },
      "execution_count": null,
      "outputs": []
    },
    {
      "cell_type": "code",
      "source": [
        "X_dummies = pd.get_dummies(merge[['item_condition_id', 'shipping']], sparse=True)"
      ],
      "metadata": {
        "id": "voR1hYjX8Rk-"
      },
      "execution_count": null,
      "outputs": []
    },
    {
      "cell_type": "code",
      "source": [
        "X_dummies.dtypes"
      ],
      "metadata": {
        "colab": {
          "base_uri": "https://localhost:8080/"
        },
        "id": "lPDo6H2R8ZM_",
        "outputId": "969fa2ab-5baa-40ec-c4b0-f1f17849b597"
      },
      "execution_count": null,
      "outputs": [
        {
          "output_type": "execute_result",
          "data": {
            "text/plain": [
              "shipping                          int64\n",
              "item_condition_id_1    Sparse[uint8, 0]\n",
              "item_condition_id_2    Sparse[uint8, 0]\n",
              "item_condition_id_3    Sparse[uint8, 0]\n",
              "item_condition_id_4    Sparse[uint8, 0]\n",
              "item_condition_id_5    Sparse[uint8, 0]\n",
              "dtype: object"
            ]
          },
          "metadata": {},
          "execution_count": 82
        }
      ]
    },
    {
      "cell_type": "code",
      "source": [
        "X_dummies = csr_matrix(pd.get_dummies(merge[['item_conditibon_id', 'shipping']], sparse=True).values)"
      ],
      "metadata": {
        "id": "D3Qgdp7_8bSu"
      },
      "execution_count": null,
      "outputs": []
    },
    {
      "cell_type": "code",
      "source": [
        "sparse_merge = hstack(( X_dummies,X_description, X_brand, X_category, X_name)).tocsr()\n"
      ],
      "metadata": {
        "id": "UpyrnFdm8hyE"
      },
      "execution_count": null,
      "outputs": []
    },
    {
      "cell_type": "code",
      "source": [
        "sparse_merge.shape\n"
      ],
      "metadata": {
        "colab": {
          "base_uri": "https://localhost:8080/"
        },
        "id": "QrhmkCN28la1",
        "outputId": "e3a31cab-c4b1-4b7a-a7b3-11c649db805b"
      },
      "execution_count": null,
      "outputs": [
        {
          "output_type": "execute_result",
          "data": {
            "text/plain": [
              "(49961, 54966)"
            ]
          },
          "metadata": {},
          "execution_count": 86
        }
      ]
    },
    {
      "cell_type": "markdown",
      "source": [
        "remove the features with document frequency less than 1"
      ],
      "metadata": {
        "id": "ng2gzIug8pcN"
      }
    },
    {
      "cell_type": "code",
      "source": [
        "mask = np.array(np.clip(sparse_merge.getnnz(axis=0) - 1, 0, 1), dtype=bool)\n",
        "sparse_merge = sparse_merge[:, mask]"
      ],
      "metadata": {
        "id": "sfLJ2YSn8ven"
      },
      "execution_count": null,
      "outputs": []
    },
    {
      "cell_type": "code",
      "source": [
        "sparse_merge.shape"
      ],
      "metadata": {
        "colab": {
          "base_uri": "https://localhost:8080/"
        },
        "id": "m6ZHjFWB8xS3",
        "outputId": "f8306ff4-c862-4292-bd10-52fd496ed904"
      },
      "execution_count": null,
      "outputs": [
        {
          "output_type": "execute_result",
          "data": {
            "text/plain": [
              "(49961, 54111)"
            ]
          },
          "metadata": {},
          "execution_count": 88
        }
      ]
    },
    {
      "cell_type": "code",
      "source": [
        "X = sparse_merge[:len(train_x)]\n",
        "X_test = sparse_merge[len(train_x):]"
      ],
      "metadata": {
        "id": "EQCV5vny83nf"
      },
      "execution_count": null,
      "outputs": []
    },
    {
      "cell_type": "code",
      "source": [
        "train_X = lgb.Dataset(X, label=train_y)"
      ],
      "metadata": {
        "id": "RzzFJ6Pe9ER6"
      },
      "execution_count": null,
      "outputs": []
    },
    {
      "cell_type": "code",
      "source": [
        "params = {\n",
        "        'learning_rate': 0.75,\n",
        "        'application': 'regression',\n",
        "        'max_depth': 3,\n",
        "        'num_leaves': 100,\n",
        "        'verbosity': -1,\n",
        "        'metric': 'RMSE',\n",
        "    }\n"
      ],
      "metadata": {
        "id": "QsrWuUQd9Hf9"
      },
      "execution_count": null,
      "outputs": []
    },
    {
      "cell_type": "code",
      "source": [
        "gbm = lgb.train(params, train_set=train_X, num_boost_round=3200, verbose_eval=100)"
      ],
      "metadata": {
        "id": "Lmk7z7LM9KO0"
      },
      "execution_count": null,
      "outputs": []
    },
    {
      "cell_type": "code",
      "source": [
        "y_pred = gbm.predict(X_test, num_iteration=gbm.best_iteration)\n"
      ],
      "metadata": {
        "id": "unFXCqBF-ErN"
      },
      "execution_count": null,
      "outputs": []
    },
    {
      "cell_type": "code",
      "source": [
        "from sklearn.metrics import mean_squared_error\n",
        "print('The rmse of prediction is:', mean_squared_error(test_y, y_pred) ** 0.5)"
      ],
      "metadata": {
        "colab": {
          "base_uri": "https://localhost:8080/"
        },
        "id": "BdY-IiWt-Sa4",
        "outputId": "efcdccca-c06d-4eb2-d1cf-ff797d61e5fd"
      },
      "execution_count": null,
      "outputs": [
        {
          "output_type": "stream",
          "name": "stdout",
          "text": [
            "The rmse of prediction is: 0.582625956002516\n"
          ]
        }
      ]
    }
  ]
}